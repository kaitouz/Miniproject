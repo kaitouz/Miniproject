{
 "cells": [
  {
   "cell_type": "code",
   "execution_count": 1,
   "metadata": {},
   "outputs": [],
   "source": [
    "import os\n",
    "import numpy as np\n",
    "import matplotlib.pyplot as plt\n",
    "from omegaconf import OmegaConf\n",
    "\n",
    "import torch\n",
    "import torch.nn as nn\n",
    "\n",
    "from Data.MVTEC_data import MVTecDataloader\n",
    "from Models.GANomaly.GANomaly_mvtec import GANomaly\n",
    "from Utils.Visualizer import plot_distribution"
   ]
  },
  {
   "cell_type": "code",
   "execution_count": 2,
   "metadata": {},
   "outputs": [
    {
     "data": {
      "text/plain": [
       "{'experiment_name': 'hazelnut', 'experiment_path': './Experiments/GANomaly_mvtec/grid_200', 'dataroot': './Datasets/mvtec/grid', 'checkpoint_save': './Experiments/GANomaly_mvtec/grid_200/checkpoint', 'checkpoint_load': './Experiments/GANomaly_mvtec/grid_200/checkpoint/checkpoint_best.pt', 'log_path': './Experiments/GANomaly_mvtec/hazelnut/hazelnut.log', 'start_epoch': 1, 'finish_epoch': 200, 'manualseed': 42, 'batchSize': 64, 'imageSize_h': 64, 'imageSize_w': 64, 'nc': 3, 'nz': 100, 'ngf': 64, 'n_extra_layers': 0, 'device': 'gpu', 'gpu_ids': 0, 'ngpu': 1, 'lr': 0.0001, 'b1': 0.5, 'b2': 0.999, 'w_adv': 1, 'w_con': 40, 'w_lat': 1, 'reset_disc_value': 1e-06, 'sample_interval': 20}"
      ]
     },
     "execution_count": 2,
     "metadata": {},
     "output_type": "execute_result"
    }
   ],
   "source": [
    "args = OmegaConf.load('./Config/mvtec_GANomaly_config.yaml')\n",
    "os.makedirs(args.experiment_path, exist_ok=True)\n",
    "os.makedirs(args.checkpoint_save, exist_ok=True)\n",
    "np.random.seed(42)\n",
    "torch.manual_seed(42)\n",
    "args"
   ]
  },
  {
   "cell_type": "code",
   "execution_count": 3,
   "metadata": {},
   "outputs": [],
   "source": [
    "train_loader, val_loader = MVTecDataloader(args.dataroot, batchSize=args.batchSize, imageSize_h=args.imageSize_h, imageSize_w=args.imageSize_w, is_train=True)\n",
    "test_neg_loader, test_pos_loader = MVTecDataloader(args.dataroot, batchSize=args.batchSize, imageSize_h=args.imageSize_h, imageSize_w=args.imageSize_w, is_train=False)"
   ]
  },
  {
   "cell_type": "code",
   "execution_count": 4,
   "metadata": {},
   "outputs": [
    {
     "name": "stdout",
     "output_type": "stream",
     "text": [
      "{'gen_epoch_loss': 3.6377599094853257, 'disc_epoch_loss': 0.0007982595610277107, 'adv_loss': 0.4648126183134137, 'con_loss': 2.9439272808306143, 'lat_loss': 0.22901992906223645}\n",
      "Checpoint have been loaded.\n"
     ]
    }
   ],
   "source": [
    "Tester = GANomaly(args)"
   ]
  },
  {
   "cell_type": "code",
   "execution_count": 5,
   "metadata": {},
   "outputs": [],
   "source": [
    "roc_auc, list_scores, list_labels, list_inputs, list_outputs = Tester.test(test_neg_loader, test_pos_loader)"
   ]
  },
  {
   "cell_type": "code",
   "execution_count": 6,
   "metadata": {},
   "outputs": [
    {
     "data": {
      "text/plain": [
       "0.8312447786131996"
      ]
     },
     "execution_count": 6,
     "metadata": {},
     "output_type": "execute_result"
    }
   ],
   "source": [
    "roc_auc"
   ]
  },
  {
   "cell_type": "code",
   "execution_count": 14,
   "metadata": {},
   "outputs": [
    {
     "data": {
      "text/plain": [
       "1.0"
      ]
     },
     "execution_count": 14,
     "metadata": {},
     "output_type": "execute_result"
    }
   ],
   "source": [
    "list_labels[21]"
   ]
  },
  {
   "cell_type": "code",
   "execution_count": null,
   "metadata": {},
   "outputs": [],
   "source": [
    "a = range(0, len(list_scores))"
   ]
  },
  {
   "cell_type": "code",
   "execution_count": 15,
   "metadata": {},
   "outputs": [
    {
     "data": {
      "image/png": "[encoded data removed]",
      "text/plain": [
       "<Figure size 640x480 with 1 Axes>"
      ]
     },
     "metadata": {},
     "output_type": "display_data"
    }
   ],
   "source": [
    "plot_distribution(list_scores[:21], list_scores[21:], 20)"
   ]
  }
 ],
 "metadata": {
  "kernelspec": {
   "display_name": "vdt",
   "language": "python",
   "name": "python3"
  },
  "language_info": {
   "codemirror_mode": {
    "name": "ipython",
    "version": 3
   },
   "file_extension": ".py",
   "mimetype": "text/x-python",
   "name": "python",
   "nbconvert_exporter": "python",
   "pygments_lexer": "ipython3",
   "version": "3.10.11"
  },
  "orig_nbformat": 4
 },
 "nbformat": 4,
 "nbformat_minor": 2
}
